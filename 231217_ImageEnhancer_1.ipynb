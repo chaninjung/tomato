{
 "cells": [
  {
   "cell_type": "code",
   "execution_count": 3,
   "id": "1f421b2c-fddc-44c7-838a-750cc5769cc9",
   "metadata": {},
   "outputs": [
    {
     "data": {
      "text/plain": [
       "'Image enhancement completed. Improved images are saved in: /home/piai/3class_Maturity/GAN/GAN_unripe/select(2000)/ImageEnhancer'"
      ]
     },
     "execution_count": 3,
     "metadata": {},
     "output_type": "execute_result"
    }
   ],
   "source": [
    "from PIL import Image\n",
    "import os\n",
    "\n",
    "def improve_image_quality(input_folder, output_folder):\n",
    "    # 입력 폴더에서 이미지 파일 목록을 가져옵니다.\n",
    "    image_files = [f for f in os.listdir(input_folder) if f.endswith(('.png', '.jpg', '.jpeg'))]\n",
    "    \n",
    "    # 개선된 이미지를 저장할 폴더가 없다면 생성합니다.\n",
    "    if not os.path.exists(output_folder):\n",
    "        os.makedirs(output_folder)\n",
    "\n",
    "    # 이미지 파일 각각에 대해 품질 개선을 수행합니다.\n",
    "    for image_file in image_files:\n",
    "        # 이미지를 불러옵니다.\n",
    "        img = Image.open(os.path.join(input_folder, image_file))\n",
    "\n",
    "        # 이미지의 해상도를 원하는 크기로 조정합니다. 여기서는 2배로 설정했습니다.\n",
    "        new_size = (img.width * 2, img.height * 2)\n",
    "\n",
    "        # 이미지를 고해상도로 변환합니다.\n",
    "        improved_img = img.resize(new_size, Image.LANCZOS)\n",
    "\n",
    "        # 개선된 이미지를 저장합니다.\n",
    "        improved_img.save(os.path.join(output_folder, image_file))\n",
    "\n",
    "    return f\"Image enhancement completed. Improved images are saved in: {output_folder}\"\n",
    "\n",
    "# 이미지 개선을 원하는 이미지 파일 폴더 경로\n",
    "input_folder_path = \"/home/piai/3class_Maturity/GAN/GAN_unripe/select(2000)\"\n",
    "# 저장할 폴더 경로\n",
    "output_folder_path = \"/home/piai/3class_Maturity/GAN/GAN_unripe/select(2000)/ImageEnhancer\"\n",
    "\n",
    "# 이미지 품질 개선 함수를 호출합니다.\n",
    "improve_image_quality(input_folder_path, output_folder_path)"
   ]
  }
 ],
 "metadata": {
  "kernelspec": {
   "display_name": "Python 3 (ipykernel)",
   "language": "python",
   "name": "python3"
  },
  "language_info": {
   "codemirror_mode": {
    "name": "ipython",
    "version": 3
   },
   "file_extension": ".py",
   "mimetype": "text/x-python",
   "name": "python",
   "nbconvert_exporter": "python",
   "pygments_lexer": "ipython3",
   "version": "3.8.18"
  }
 },
 "nbformat": 4,
 "nbformat_minor": 5
}
